{
  "cells": [
    {
      "cell_type": "markdown",
      "metadata": {
        "id": "view-in-github",
        "colab_type": "text"
      },
      "source": [
        "<a href=\"https://colab.research.google.com/github/aliasgharchakera/GPU-Spring24-Assignment01/blob/main/AY06993_Assgn1.ipynb\" target=\"_parent\"><img src=\"https://colab.research.google.com/assets/colab-badge.svg\" alt=\"Open In Colab\"/></a>"
      ]
    },
    {
      "cell_type": "code",
      "execution_count": 2,
      "metadata": {
        "colab": {
          "base_uri": "https://localhost:8080/"
        },
        "id": "kBUHmmqQHOS-",
        "outputId": "f6a76a82-31b0-4f27-fff9-8b45e030a25e"
      },
      "outputs": [
        {
          "output_type": "stream",
          "name": "stdout",
          "text": [
            "Collecting git+https://github.com/andreinechaev/nvcc4jupyter.git\n",
            "  Cloning https://github.com/andreinechaev/nvcc4jupyter.git to /tmp/pip-req-build-jditb33z\n",
            "  Running command git clone --filter=blob:none --quiet https://github.com/andreinechaev/nvcc4jupyter.git /tmp/pip-req-build-jditb33z\n",
            "  Resolved https://github.com/andreinechaev/nvcc4jupyter.git to commit 5cd225851b7638f3f6d55a19328295f16c014079\n",
            "  Installing build dependencies ... \u001b[?25l\u001b[?25hdone\n",
            "  Getting requirements to build wheel ... \u001b[?25l\u001b[?25hdone\n",
            "  Preparing metadata (pyproject.toml) ... \u001b[?25l\u001b[?25hdone\n",
            "Building wheels for collected packages: nvcc4jupyter\n",
            "  Building wheel for nvcc4jupyter (pyproject.toml) ... \u001b[?25l\u001b[?25hdone\n",
            "  Created wheel for nvcc4jupyter: filename=nvcc4jupyter-1.0.3-py3-none-any.whl size=7432 sha256=ad99cf1e6175f37f13398802e9e82d42885745e385f9d1c2ce678f3d359f3a95\n",
            "  Stored in directory: /tmp/pip-ephem-wheel-cache-xodwdj24/wheels/a8/b9/18/23f8ef71ceb0f63297dd1903aedd067e6243a68ea756d6feea\n",
            "Successfully built nvcc4jupyter\n",
            "Installing collected packages: nvcc4jupyter\n",
            "Successfully installed nvcc4jupyter-1.0.3\n",
            "Source files will be saved in \"/tmp/tmp4lqcsf_c\".\n"
          ]
        }
      ],
      "source": [
        "!pip install git+https://github.com/andreinechaev/nvcc4jupyter.git\n",
        "%load_ext nvcc4jupyter"
      ]
    },
    {
      "cell_type": "code",
      "execution_count": 3,
      "metadata": {
        "colab": {
          "base_uri": "https://localhost:8080/"
        },
        "id": "aikKbs6TMEp6",
        "outputId": "98cd15f6-e5d8-4026-96e3-7e31cdae05c4"
      },
      "outputs": [
        {
          "output_type": "stream",
          "name": "stdout",
          "text": [
            "Fri Jan 26 18:00:33 2024       \n",
            "+---------------------------------------------------------------------------------------+\n",
            "| NVIDIA-SMI 535.104.05             Driver Version: 535.104.05   CUDA Version: 12.2     |\n",
            "|-----------------------------------------+----------------------+----------------------+\n",
            "| GPU  Name                 Persistence-M | Bus-Id        Disp.A | Volatile Uncorr. ECC |\n",
            "| Fan  Temp   Perf          Pwr:Usage/Cap |         Memory-Usage | GPU-Util  Compute M. |\n",
            "|                                         |                      |               MIG M. |\n",
            "|=========================================+======================+======================|\n",
            "|   0  Tesla T4                       Off | 00000000:00:04.0 Off |                    0 |\n",
            "| N/A   36C    P8               9W /  70W |      0MiB / 15360MiB |      0%      Default |\n",
            "|                                         |                      |                  N/A |\n",
            "+-----------------------------------------+----------------------+----------------------+\n",
            "                                                                                         \n",
            "+---------------------------------------------------------------------------------------+\n",
            "| Processes:                                                                            |\n",
            "|  GPU   GI   CI        PID   Type   Process name                            GPU Memory |\n",
            "|        ID   ID                                                             Usage      |\n",
            "|=======================================================================================|\n",
            "|  No running processes found                                                           |\n",
            "+---------------------------------------------------------------------------------------+\n"
          ]
        }
      ],
      "source": [
        "!nvidia-smi"
      ]
    },
    {
      "cell_type": "code",
      "execution_count": 4,
      "metadata": {
        "colab": {
          "base_uri": "https://localhost:8080/"
        },
        "id": "P71PB1boHhgz",
        "outputId": "099e0d20-84d4-4d42-8ebf-88a0004697ee"
      },
      "outputs": [
        {
          "output_type": "stream",
          "name": "stdout",
          "text": [
            "The elapsed time is 0.025627 seconds\n",
            "The elapsed time is 0.268397 seconds\n",
            "The elapsed time is 0.001062 seconds\n",
            "\n"
          ]
        }
      ],
      "source": [
        "%%cuda\n",
        "#include <stdio.h>\n",
        "#include <curand_kernel.h>\n",
        "\n",
        "inline cudaError_t checkCudaErr(cudaError_t err, const char* msg) {\n",
        "  if (err != cudaSuccess) {\n",
        "    fprintf(stderr, \"CUDA Runtime error at %s: %s\\n\", msg, cudaGetErrorString(err));\n",
        "  }\n",
        "  return err;\n",
        "}\n",
        "\n",
        "\n",
        "__global__ void InitData(int* data)\n",
        "{\n",
        "    curandState_t state;\n",
        "    curand_init(clock64(), 0, 0, &state);\n",
        "    data[threadIdx.x] = curand(&state) % 100;\n",
        "}\n",
        "\n",
        "int main()\n",
        "{\n",
        "  const int N = 1000000;\n",
        "  double time1, timedif;\n",
        "\n",
        "  int* h_data = (int*)malloc(N * sizeof(int));\n",
        "  int* d_data;\n",
        "\n",
        "  time1 = (double) clock();            /* get initial time */\n",
        "  for (int i = 0; i < N; i++)\n",
        "    {\n",
        "        h_data[i] = rand() % 100;\n",
        "    }\n",
        "\n",
        "  /* call clock a second time */\n",
        "  timedif =  ((double) clock() - time1) / CLOCKS_PER_SEC;\n",
        "  printf(\"The elapsed time is %lf seconds\\n\", timedif);\n",
        "\n",
        "  //allocate memory on device\n",
        "  cudaMalloc((void **)&d_data, N*sizeof(int));\n",
        "\n",
        "  //call kernel\n",
        "  time1 = (double) clock();\n",
        "  InitData<<<1000,N/1000>>>(d_data);\n",
        "\n",
        "  checkCudaErr(cudaDeviceSynchronize(), \"Syncronization\");\n",
        "  timedif =  ((double) clock() - time1) / CLOCKS_PER_SEC;\n",
        "  printf(\"The elapsed time is %lf seconds\\n\", timedif);\n",
        "  checkCudaErr(cudaGetLastError(), \"GPU Error\");\n",
        "\n",
        "  time1 = (double) clock();\n",
        "  //copy device data to host memory\n",
        "  checkCudaErr(cudaMemcpy(h_data, d_data, N*sizeof(int), cudaMemcpyDeviceToHost), \"cudaMemcpy D->H\");\n",
        "  timedif =  ((double) clock() - time1) / CLOCKS_PER_SEC;\n",
        "  printf(\"The elapsed time is %lf seconds\\n\", timedif);\n",
        "  /*\n",
        "  printf(\"Data (on device): \\n\");\n",
        "  for(int i=0; i<N; ++i)\n",
        "     printf(\" data[%d] -> %d\\n\", i, h_data[i]);\n",
        "  */\n",
        "  //release GPU memory\n",
        "  cudaFree(d_data);\n",
        "  free(h_data);\n",
        "\n",
        "\n",
        "  return 0;\n",
        "}"
      ]
    },
    {
      "cell_type": "code",
      "source": [
        "%%cuda\n",
        "#include <stdio.h>\n",
        "#include <time.h>\n",
        "\n",
        "__global__ void sum(int* a, int* b, int* c, const int N) {\n",
        "\tint i = threadIdx.x + blockDim.x * blockIdx.x;\n",
        "\tif (i<N)\n",
        "\t\tc[i] = a[i] + b[i];\n",
        "\t//else\n",
        "\t//\tprintf(\"i > N -> %3d in block: %d\\n\", i, blockIdx.x);\n",
        "}\n",
        "\n",
        "void sum_host(int* a, int* b, int* c, const int N) {\n",
        "  clock_t clk;\n",
        "\n",
        "\tclk = clock();\n",
        "\tfor(int i=0; i<N; ++i)\n",
        "\t\tc[i] = a[i] + b[i];\n",
        "\n",
        "\tclk = clock() - clk;\n",
        "\tdouble dt = (((double)clk) / CLOCKS_PER_SEC) * 1000;\n",
        "\tprintf(\"Total time on CPU: %f msecs\\n\", dt);\n",
        "\n",
        "}\n",
        "\n",
        "\n",
        "int main() {\n",
        "\tint* h_a = 0;\n",
        "\tint* h_b = 0;\n",
        "\tint* h_c = 0;\n",
        "\n",
        "\tint* d_a = 0;\n",
        "\tint* d_b = 0;\n",
        "\tint* d_c = 0;\n",
        "\n",
        "\tconst int N = 1000;\n",
        "  double time1, timedif;\n",
        "\tint numThreadsPerBlock =  128;\n",
        "\tint numBlocksPerGrid = ceilf(N/numThreadsPerBlock + 1);\n",
        "\tprintf(\"Num threads per block: %3d\\n\", numThreadsPerBlock);\n",
        "\tprintf(\"Num blocks per grid: %3d\\n\", numBlocksPerGrid);\n",
        "\n",
        "\tsize_t size = N * sizeof(int);\n",
        "\n",
        "\t//allocate host memory\n",
        "\th_a = (int*)malloc(size);\n",
        "\th_b = (int*)malloc(size);\n",
        "\th_c = (int*)malloc(size);\n",
        "\n",
        "\t//initialize a, b and c\n",
        "\t//for(int i=0;i<N;++i) {\n",
        "\t//\th_a[i] = i+1;\n",
        "\t//\th_b[i] = h_a[i]*2;\n",
        "\t//\th_c[i] = 0;\n",
        "\t//}\n",
        "\n",
        "\t//allocate device memory\n",
        "\tcudaMalloc((void**)&d_a, size);\n",
        "\tcudaMalloc((void**)&d_b, size);\n",
        "\tcudaMalloc((void**)&d_c, size);\n",
        "\n",
        "\t//copy host data to device memory\n",
        "\t//cudaMemcpy(d_a, h_a, size, cudaMemcpyHostToDevice);\n",
        "\t//cudaMemcpy(d_b, h_b, size, cudaMemcpyHostToDevice);\n",
        "\n",
        "\t//calculate on host\n",
        "  time1 = (double) clock();\n",
        "\tsum_host(h_a, h_b, h_c, N);\n",
        "  timedif =  ((double) clock() - time1) / CLOCKS_PER_SEC;\n",
        "  printf(\"The elapsed time is %lf seconds\\n\", timedif);\n",
        "\n",
        "\tprintf(\"Sum (host): %d\\n\", h_c);\n",
        "\n",
        "\n",
        "\t//calculate on device\n",
        "  time1 = (double) clock();\n",
        "\tsum<<<numBlocksPerGrid, numThreadsPerBlock>>>(d_a, d_b, d_c, N);\n",
        "\tcudaDeviceSynchronize();\n",
        "\n",
        "  timedif =  ((double) clock() - time1) / CLOCKS_PER_SEC;\n",
        "  printf(\"The elapsed time is %lf seconds\\n\", timedif);\n",
        "\n",
        "\n",
        "\t//copy result from device to host\n",
        "  time1 = (double) clock();\n",
        "\tcudaMemcpy(h_c, d_c, size, cudaMemcpyDeviceToHost);\n",
        "  timedif =  ((double) clock() - time1) / CLOCKS_PER_SEC;\n",
        "  printf(\"The elapsed time is %lf seconds\\n\", timedif);\n",
        "\n",
        "  printf(\"Sum (device): %d\\n\", h_c);\n",
        "\n",
        "\t//delete data allocated on device\n",
        "\tcudaFree(d_a);\n",
        "\tcudaFree(d_b);\n",
        "\tcudaFree(d_c);\n",
        "\n",
        "\t//delete host memory\n",
        "\tfree(h_a);\n",
        "\tfree(h_b);\n",
        "\tfree(h_c);\n",
        "\n",
        "\treturn 0;\n",
        "}"
      ],
      "metadata": {
        "id": "2YYdkkfx6hrF",
        "outputId": "daae5847-009b-4009-df19-8558246440e4",
        "colab": {
          "base_uri": "https://localhost:8080/"
        }
      },
      "execution_count": 11,
      "outputs": [
        {
          "output_type": "stream",
          "name": "stdout",
          "text": [
            "Num threads per block: 128\n",
            "Num blocks per grid:   8\n",
            "Total time on CPU: 0.007000 msecs\n",
            "The elapsed time is 0.000014 seconds\n",
            "Sum (host): 1303033072\n",
            "The elapsed time is 0.000246 seconds\n",
            "The elapsed time is 0.000025 seconds\n",
            "Sum (device): 1303033072\n",
            "\n"
          ]
        }
      ]
    }
  ],
  "metadata": {
    "accelerator": "GPU",
    "colab": {
      "provenance": [],
      "include_colab_link": true
    },
    "gpuClass": "standard",
    "kernelspec": {
      "display_name": "Python 3",
      "name": "python3"
    },
    "language_info": {
      "name": "python"
    }
  },
  "nbformat": 4,
  "nbformat_minor": 0
}